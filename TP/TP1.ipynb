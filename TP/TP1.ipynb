{
 "cells": [
  {
   "cell_type": "code",
   "execution_count": 1,
   "metadata": {},
   "outputs": [],
   "source": [
    "import cv2\n",
    "import numpy as np"
   ]
  },
  {
   "cell_type": "markdown",
   "metadata": {},
   "source": [
    "**Load image**"
   ]
  },
  {
   "cell_type": "code",
   "execution_count": 8,
   "metadata": {},
   "outputs": [],
   "source": [
    "# Charge l'image\n",
    "image = cv2.imread(\"assets/img1.png\")"
   ]
  },
  {
   "cell_type": "code",
   "execution_count": 9,
   "metadata": {},
   "outputs": [],
   "source": [
    "# Vérifie si l'image a bien été chargée\n",
    "if image is None:\n",
    "    print(\"L'image n'a pas pu être chargée.\")\n",
    "else:\n",
    "    # Affiche l'image dans une fenêtre\n",
    "    cv2.imshow('Image', image)\n",
    "    cv2.waitKey(0)\n",
    "    cv2.destroyAllWindows()\n",
    "    \n",
    "    # Attend qu'une touche soit pressée pour fermer la fenêtre\n",
    "   "
   ]
  },
  {
   "cell_type": "code",
   "execution_count": 10,
   "metadata": {},
   "outputs": [
    {
     "data": {
      "text/plain": [
       "(360, 360, 3)"
      ]
     },
     "execution_count": 10,
     "metadata": {},
     "output_type": "execute_result"
    }
   ],
   "source": [
    "image.shape"
   ]
  },
  {
   "cell_type": "code",
   "execution_count": 11,
   "metadata": {},
   "outputs": [],
   "source": [
    " \n",
    "h , w , c = image.shape\n",
    "    \n",
    "# imgRes = np.zeros([h , w , c] , np.uint8) \n",
    "imgRes = np.zeros([h , w , c] , np.uint16) \n",
    "imgRes2 = np.zeros([h , w , c] , np.float32) #float16 n'est pas supporté par imshow\n",
    "\n",
    "\n",
    "# imgRas = np.zro(image.shape , image.dtype)"
   ]
  },
  {
   "cell_type": "code",
   "execution_count": 12,
   "metadata": {},
   "outputs": [],
   "source": [
    "# for  y in range(h):\n",
    "#     for x in range(w):\n",
    "#         imgRes  [y , x , :] = 255-image[y , x , :]\n",
    "\n",
    "imgRes[:,:,:] = 255-image[:,:,:]\n",
    "imgRes2[:,:,:] = 255-image[:,:,:]\n",
    "\n",
    "imgRes = imgRes*256\n",
    "# imgRes2 = imgRes2/1. l'image sera afficher white car le float est entre zero et un \n",
    "imgRes2 = imgRes2/256.\n",
    "# imgRes = 255-image"
   ]
  },
  {
   "cell_type": "code",
   "execution_count": 13,
   "metadata": {},
   "outputs": [],
   "source": [
    "cv2.imshow('Image2', imgRes)\n",
    "cv2.imshow('Image3', imgRes2)\n",
    "cv2.imshow('Image1', image)\n",
    "cv2.waitKey(0)\n",
    "cv2.destroyAllWindows()\n",
    "   "
   ]
  },
  {
   "cell_type": "code",
   "execution_count": 14,
   "metadata": {},
   "outputs": [
    {
     "data": {
      "text/plain": [
       "array([[[65280, 65280, 65280],\n",
       "        [65280, 65280, 65280],\n",
       "        [65280, 65280, 65280],\n",
       "        ...,\n",
       "        [65280, 65280, 65280],\n",
       "        [65280, 65280, 65280],\n",
       "        [65280, 65280, 65280]],\n",
       "\n",
       "       [[65280, 65280, 65280],\n",
       "        [65280, 65280, 65280],\n",
       "        [65280, 65280, 65280],\n",
       "        ...,\n",
       "        [65280, 65280, 65280],\n",
       "        [65280, 65280, 65280],\n",
       "        [65280, 65280, 65280]],\n",
       "\n",
       "       [[65280, 65280, 65280],\n",
       "        [65280, 65280, 65280],\n",
       "        [65280, 65280, 65280],\n",
       "        ...,\n",
       "        [65280, 65280, 65280],\n",
       "        [65280, 65280, 65280],\n",
       "        [65280, 65280, 65280]],\n",
       "\n",
       "       ...,\n",
       "\n",
       "       [[65280, 65280, 65280],\n",
       "        [65280, 65280, 65280],\n",
       "        [65280, 65280, 65280],\n",
       "        ...,\n",
       "        [65280, 65280, 65280],\n",
       "        [65280, 65280, 65280],\n",
       "        [65280, 65280, 65280]],\n",
       "\n",
       "       [[65280, 65280, 65280],\n",
       "        [65280, 65280, 65280],\n",
       "        [65280, 65280, 65280],\n",
       "        ...,\n",
       "        [65280, 65280, 65280],\n",
       "        [65280, 65280, 65280],\n",
       "        [65280, 65280, 65280]],\n",
       "\n",
       "       [[65280, 65280, 65280],\n",
       "        [65280, 65280, 65280],\n",
       "        [65280, 65280, 65280],\n",
       "        ...,\n",
       "        [65280, 65280, 65280],\n",
       "        [65280, 65280, 65280],\n",
       "        [65280, 65280, 65280]]], dtype=uint16)"
      ]
     },
     "execution_count": 14,
     "metadata": {},
     "output_type": "execute_result"
    }
   ],
   "source": [
    "imgRes"
   ]
  },
  {
   "cell_type": "code",
   "execution_count": 15,
   "metadata": {},
   "outputs": [
    {
     "data": {
      "text/plain": [
       "array([[[0.99609375, 0.99609375, 0.99609375],\n",
       "        [0.99609375, 0.99609375, 0.99609375],\n",
       "        [0.99609375, 0.99609375, 0.99609375],\n",
       "        ...,\n",
       "        [0.99609375, 0.99609375, 0.99609375],\n",
       "        [0.99609375, 0.99609375, 0.99609375],\n",
       "        [0.99609375, 0.99609375, 0.99609375]],\n",
       "\n",
       "       [[0.99609375, 0.99609375, 0.99609375],\n",
       "        [0.99609375, 0.99609375, 0.99609375],\n",
       "        [0.99609375, 0.99609375, 0.99609375],\n",
       "        ...,\n",
       "        [0.99609375, 0.99609375, 0.99609375],\n",
       "        [0.99609375, 0.99609375, 0.99609375],\n",
       "        [0.99609375, 0.99609375, 0.99609375]],\n",
       "\n",
       "       [[0.99609375, 0.99609375, 0.99609375],\n",
       "        [0.99609375, 0.99609375, 0.99609375],\n",
       "        [0.99609375, 0.99609375, 0.99609375],\n",
       "        ...,\n",
       "        [0.99609375, 0.99609375, 0.99609375],\n",
       "        [0.99609375, 0.99609375, 0.99609375],\n",
       "        [0.99609375, 0.99609375, 0.99609375]],\n",
       "\n",
       "       ...,\n",
       "\n",
       "       [[0.99609375, 0.99609375, 0.99609375],\n",
       "        [0.99609375, 0.99609375, 0.99609375],\n",
       "        [0.99609375, 0.99609375, 0.99609375],\n",
       "        ...,\n",
       "        [0.99609375, 0.99609375, 0.99609375],\n",
       "        [0.99609375, 0.99609375, 0.99609375],\n",
       "        [0.99609375, 0.99609375, 0.99609375]],\n",
       "\n",
       "       [[0.99609375, 0.99609375, 0.99609375],\n",
       "        [0.99609375, 0.99609375, 0.99609375],\n",
       "        [0.99609375, 0.99609375, 0.99609375],\n",
       "        ...,\n",
       "        [0.99609375, 0.99609375, 0.99609375],\n",
       "        [0.99609375, 0.99609375, 0.99609375],\n",
       "        [0.99609375, 0.99609375, 0.99609375]],\n",
       "\n",
       "       [[0.99609375, 0.99609375, 0.99609375],\n",
       "        [0.99609375, 0.99609375, 0.99609375],\n",
       "        [0.99609375, 0.99609375, 0.99609375],\n",
       "        ...,\n",
       "        [0.99609375, 0.99609375, 0.99609375],\n",
       "        [0.99609375, 0.99609375, 0.99609375],\n",
       "        [0.99609375, 0.99609375, 0.99609375]]], dtype=float32)"
      ]
     },
     "execution_count": 15,
     "metadata": {},
     "output_type": "execute_result"
    }
   ],
   "source": [
    "imgRes2"
   ]
  },
  {
   "cell_type": "code",
   "execution_count": null,
   "metadata": {},
   "outputs": [],
   "source": []
  }
 ],
 "metadata": {
  "kernelspec": {
   "display_name": "ML",
   "language": "python",
   "name": "python3"
  },
  "language_info": {
   "codemirror_mode": {
    "name": "ipython",
    "version": 3
   },
   "file_extension": ".py",
   "mimetype": "text/x-python",
   "name": "python",
   "nbconvert_exporter": "python",
   "pygments_lexer": "ipython3",
   "version": "3.10.13"
  }
 },
 "nbformat": 4,
 "nbformat_minor": 2
}
