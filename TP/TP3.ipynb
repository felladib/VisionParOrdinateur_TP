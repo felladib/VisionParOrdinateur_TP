{
 "cells": [
  {
   "cell_type": "markdown",
   "metadata": {},
   "source": [
    "# La binarisation\n",
    "La binarisation est un processus de traitement d'image qui transforme une image en niveaux de gris (où les pixels ont des valeurs allant de 0 à 255) en une image binaire, où chaque pixel prend seulement deux valeurs possibles : généralement 0 (noir) ou 255 (blanc).\n",
    "\n",
    "L'objectif est de simplifier l'image en distinguant uniquement deux catégories : les parties d'intérêt (par exemple, des objets ou du texte) et l'arrière-plan. La binarisation est souvent utilisée pour détecter des contours, analyser des formes ou isoler des objets d'intérêt dans une image.\n",
    "\n",
    "Voici un exemple de processus de binarisation :\n",
    "\n",
    "* Choix du Seuil : On définit une valeur de seuil. Les pixels dont l'intensité est supérieure à ce seuil deviennent blancs (255), tandis que ceux en dessous deviennent noirs (0).\n",
    "\n",
    "* Application de la Binarisation : En comparant chaque pixel au seuil, l’image devient binaire, ce qui simplifie grandement l'analyse.\n",
    "\n",
    "Ce procédé est couramment utilisé en reconnaissance de formes, OCR (reconnaissance de texte), et pour simplifier des tâches d'analyse d'image."
   ]
  },
  {
   "cell_type": "code",
   "execution_count": 1,
   "metadata": {},
   "outputs": [],
   "source": [
    "try:\n",
    "    import cv2\n",
    "except Exception as  e:\n",
    "    print(f\"erreur {e}\")\n",
    "import numpy as np"
   ]
  },
  {
   "cell_type": "code",
   "execution_count": 2,
   "metadata": {},
   "outputs": [],
   "source": [
    "image = cv2.imread('assets/img3.png', cv2.IMREAD_GRAYSCALE)\n",
    "# Les variables th et type_th définissent respectivement la valeur du seuil (intensité de pixel) et le type de traitement appliqué\n",
    "th = 0\n",
    "type_th = 0"
   ]
  },
  {
   "cell_type": "code",
   "execution_count": 3,
   "metadata": {},
   "outputs": [],
   "source": [
    "# import numpy as np\n",
    "# image = np.array([[1, 2, 4], [0, 3, 8], [5, 8, 9]])  # Utilisation de parenthèses pour np.array\n",
    "# th = 4\n",
    "# sup_th = image > th\n",
    "# sup_th\n",
    "\n"
   ]
  },
  {
   "cell_type": "code",
   "execution_count": 12,
   "metadata": {},
   "outputs": [],
   "source": [
    "def afficher(image_source , contours = False):\n",
    "    # On initialise imgRes comme une image de même taille que image, mais remplie de zéros\n",
    "    if not contours :\n",
    "        imgRes = np.zeros_like(image)\n",
    "    \n",
    "\n",
    "    sup_th = image>th\n",
    "    inf_th = np.invert(sup_th) #Masque pour récupérer les vals inférieures au seuil\n",
    "\n",
    "    if(type_th == 0): #Algo 1\n",
    "        imgRes[sup_th] = 255\n",
    "        imgRes[inf_th] = 0\n",
    "    elif(type_th == 1): #Algo 2\n",
    "        imgRes[sup_th] = 0\n",
    "        imgRes[inf_th] = 255\n",
    "    elif(type_th == 2): #Algo 3\n",
    "        imgRes[sup_th] = th\n",
    "        imgRes[inf_th] = image[inf_th]\n",
    "    elif(type_th == 3): #Algo 4\n",
    "        imgRes[sup_th] = image[sup_th]\n",
    "        imgRes[inf_th] = 0\n",
    "    elif(type_th == 4): #Algo 5\n",
    "        imgRes[sup_th] = 0\n",
    "        imgRes[inf_th] = image[inf_th]\n",
    "    \n",
    "    cv2.imshow('Image source', image)\n",
    "    cv2.imshow('Image Res', imgRes)\n",
    "    \n",
    "    # cv2.createTrackbar(\"Threshold\", \"Image source\", 0, 255, change_th)\n",
    "    # cv2.createTrackbar(\"Type\", \"Image Res\", 0, 4, change_type)\n",
    "\n",
    "    # cv2.waitKey(0)\n",
    "    # cv2.destroyAllWindows()\n",
    "\n",
    "\n",
    "def change_th(x):\n",
    "    global th\n",
    "    th = x\n",
    "    afficher()\n",
    "\n",
    "def change_type(x):\n",
    "    global type_th\n",
    "    type_th = x\n",
    "    afficher()\n"
   ]
  },
  {
   "cell_type": "code",
   "execution_count": 13,
   "metadata": {},
   "outputs": [],
   "source": [
    "# Avec la fonction prédefinie\n",
    "def afficher():\n",
    "    imgRes = np.zeros_like(image)\n",
    "\n",
    "    cv2.threshold(image, th, 255, type_th, imgRes)\n",
    "    \n",
    "    cv2.imshow('Image source', image)\n",
    "    cv2.imshow('Image Res', imgRes)"
   ]
  },
  {
   "cell_type": "code",
   "execution_count": 14,
   "metadata": {},
   "outputs": [],
   "source": [
    "cv2.namedWindow(\"Image source\")\n",
    "cv2.namedWindow(\"Image Res\")\n",
    "\n",
    "afficher()\n",
    "\n",
    "cv2.createTrackbar(\"Threshold\", \"Image source\", 0, 255, change_th)\n",
    "cv2.createTrackbar(\"Type\", \"Image Res\", 0, 4, change_type)\n",
    "\n",
    "cv2.waitKey(0)  # Attendre une touche pour fermer la fenêtre\n",
    "cv2.destroyAllWindows()"
   ]
  },
  {
   "cell_type": "markdown",
   "metadata": {},
   "source": [
    "## Detection des Counteur"
   ]
  },
  {
   "cell_type": "code",
   "execution_count": null,
   "metadata": {},
   "outputs": [],
   "source": [
    "\"\"\"\n",
    "    changer le type et normaliser\n",
    "\"\"\"\n",
    "\n",
    "# Calcul du gradient en x\n",
    "Gx = np.array([[np.sum(image[i-1:i+2, j-1:j+2] * np.array([[1, 0, -1], [2, 0, -2], [1, 0, -1]])) for j in range(1, image.shape[1]-1)] for i in range(1, image.shape[0]-1)])\n",
    "\n",
    "# Calcul du gradient en y\n",
    "Gy = np.array([[np.sum(image[i-1:i+2, j-1:j+2] * np.array([[1, 2, 1], [0, 0, 0], [-1, -2, -1]])) for j in range(1, image.shape[1]-1)] for i in range(1, image.shape[0]-1)])\n",
    "\n",
    "# Pour obtenir les contours\n",
    "contours = np.sqrt(Gx**2 + Gy**2)\n",
    "\n",
    "# Conversion en type uint8 pour l'affichage\n",
    "imgRes = np.uint8(contours)\n",
    "\n",
    "# Affichage des images\n",
    "# cv2.imshow('Image source', image)\n",
    "# cv2.imshow('Image Grad', contours)\n",
    "# cv2.waitKey(0)\n",
    "# cv2.destroyAllWindows()\n",
    "afficher(image , imgRes , contours = True)\n"
   ]
  },
  {
   "cell_type": "code",
   "execution_count": null,
   "metadata": {},
   "outputs": [],
   "source": []
  }
 ],
 "metadata": {
  "kernelspec": {
   "display_name": "ML",
   "language": "python",
   "name": "python3"
  },
  "language_info": {
   "codemirror_mode": {
    "name": "ipython",
    "version": 3
   },
   "file_extension": ".py",
   "mimetype": "text/x-python",
   "name": "python",
   "nbconvert_exporter": "python",
   "pygments_lexer": "ipython3",
   "version": "3.10.13"
  }
 },
 "nbformat": 4,
 "nbformat_minor": 2
}
