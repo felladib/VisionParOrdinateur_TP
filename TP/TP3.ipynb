{
 "cells": [
  {
   "cell_type": "code",
   "execution_count": 1,
   "metadata": {},
   "outputs": [],
   "source": [
    "import cv2\n",
    "import numpy as np"
   ]
  },
  {
   "cell_type": "code",
   "execution_count": 2,
   "metadata": {},
   "outputs": [],
   "source": [
    "image = cv2.imread('image1.jpg', cv2.IMREAD_GRAYSCALE)\n",
    "th = 0\n",
    "type_th = 0"
   ]
  },
  {
   "cell_type": "code",
   "execution_count": 3,
   "metadata": {},
   "outputs": [],
   "source": [
    "def afficher():\n",
    "    imgRes = np.zeros_like(image)\n",
    "\n",
    "    sup_th = image>th\n",
    "    inf_th = np.invert(sup_th) #Masque pour récupérer les vals inférieures au seuil\n",
    "\n",
    "    if(type_th == 0): #Algo 1\n",
    "        imgRes[sup_th] = 255\n",
    "        imgRes[inf_th] = 0\n",
    "    elif(type_th == 1): #Algo 2\n",
    "        imgRes[sup_th] = 0\n",
    "        imgRes[inf_th] = 255\n",
    "    elif(type_th == 2): #Algo 3\n",
    "        imgRes[sup_th] = th\n",
    "        imgRes[inf_th] = image[inf_th]\n",
    "    elif(type_th == 3): #Algo 4\n",
    "        imgRes[sup_th] = image[sup_th]\n",
    "        imgRes[inf_th] = 0\n",
    "    elif(type_th == 4): #Algo 5\n",
    "        imgRes[sup_th] = 0\n",
    "        imgRes[inf_th] = image[inf_th]\n",
    "    \n",
    "    cv2.imshow('Image source', image)\n",
    "    cv2.imshow('Image Res', imgRes)\n",
    "\n",
    "\n",
    "def change_th(x):\n",
    "    global th\n",
    "    th = x\n",
    "    afficher()\n",
    "\n",
    "def change_type(x):\n",
    "    global type_th\n",
    "    type_th = x\n",
    "    afficher()\n"
   ]
  },
  {
   "cell_type": "code",
   "execution_count": 5,
   "metadata": {},
   "outputs": [],
   "source": [
    "# Avec la fonction prédefinie\n",
    "def afficher2():\n",
    "    imgRes = np.zeros_like(image)\n",
    "\n",
    "    cv2.threshold(image, th, 255, type_th, imgRes)\n",
    "    \n",
    "    cv2.imshow('Image source', image)\n",
    "    cv2.imshow('Image Res', imgRes)"
   ]
  },
  {
   "cell_type": "code",
   "execution_count": 6,
   "metadata": {},
   "outputs": [],
   "source": [
    "cv2.namedWindow(\"Image source\")\n",
    "cv2.namedWindow(\"Image Res\")\n",
    "\n",
    "afficher()\n",
    "\n",
    "cv2.createTrackbar(\"Threshold\", \"Image source\", 0, 255, change_th)\n",
    "cv2.createTrackbar(\"Type\", \"Image Res\", 0, 4, change_type)\n",
    "\n",
    "cv2.waitKey(0)  # Attendre une touche pour fermer la fenêtre\n",
    "cv2.destroyAllWindows()"
   ]
  },
  {
   "cell_type": "code",
   "execution_count": null,
   "metadata": {},
   "outputs": [],
   "source": []
  }
 ],
 "metadata": {
  "kernelspec": {
   "display_name": "vision",
   "language": "python",
   "name": "python3"
  },
  "language_info": {
   "codemirror_mode": {
    "name": "ipython",
    "version": 3
   },
   "file_extension": ".py",
   "mimetype": "text/x-python",
   "name": "python",
   "nbconvert_exporter": "python",
   "pygments_lexer": "ipython3",
   "version": "3.11.10"
  }
 },
 "nbformat": 4,
 "nbformat_minor": 2
}
