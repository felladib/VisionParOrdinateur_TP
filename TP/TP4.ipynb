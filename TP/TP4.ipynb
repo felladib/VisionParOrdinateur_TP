{
 "cells": [
  {
   "cell_type": "markdown",
   "metadata": {},
   "source": [
    "### **Filtre Gaussien & Laplacien**\n",
    "\n",
    "* Gaussien : Floute une image pour réduire le bruit et lisser les transitions.\n",
    "* Gradient (Sobel) : Détecte les contours en mesurant le taux de changement de l'intensité des pixels.\n",
    "* Laplacien : Détecte les contours en mesurant la deuxième dérivée de l'intensité, ce qui met en évidence les zones de variation rapide sans considération de direction."
   ]
  },
  {
   "cell_type": "markdown",
   "metadata": {},
   "source": [
    "*Loaading image*"
   ]
  },
  {
   "cell_type": "code",
   "execution_count": 2,
   "metadata": {},
   "outputs": [],
   "source": [
    "try:\n",
    "    import cv2\n",
    "except Exception as  e:\n",
    "    print(f\"erreur {e}\")\n",
    "import numpy as np\n",
    "import math"
   ]
  },
  {
   "cell_type": "code",
   "execution_count": 38,
   "metadata": {},
   "outputs": [],
   "source": [
    "image = cv2.imread('assets/img3.png', cv2.IMREAD_GRAYSCALE)"
   ]
  },
  {
   "cell_type": "markdown",
   "metadata": {},
   "source": [
    "*Filtre de Gausse*"
   ]
  },
  {
   "cell_type": "code",
   "execution_count": 4,
   "metadata": {},
   "outputs": [],
   "source": [
    "# flou\n",
    "kernel_Gausse = np.array([[1,2,1],[2,4,2],[1,2,1]])/16"
   ]
  },
  {
   "cell_type": "markdown",
   "metadata": {},
   "source": [
    "*Filtre de Laplacien*"
   ]
  },
  {
   "cell_type": "code",
   "execution_count": 5,
   "metadata": {},
   "outputs": [],
   "source": [
    "\n",
    "kernel_Lap = np.array([[0,-1,0],[-1,4,-1],[0,-1,0]])"
   ]
  },
  {
   "cell_type": "markdown",
   "metadata": {},
   "source": [
    "*Filtre de rehaussement*"
   ]
  },
  {
   "cell_type": "code",
   "execution_count": 6,
   "metadata": {},
   "outputs": [],
   "source": [
    "Kernel_rehaussement = np.array([[0,-1,0],[-1,5,-1],[0,-1,0]])"
   ]
  },
  {
   "cell_type": "markdown",
   "metadata": {},
   "source": [
    "*Inverser la valeur de rehaussement Kernel*"
   ]
  },
  {
   "cell_type": "code",
   "execution_count": 7,
   "metadata": {},
   "outputs": [],
   "source": [
    "Kernel_rehaussement1 = np.array([[0,1,0],[1,5,1],[0,1,0]])\n",
    "Kernel_rehaussement2 = np.array([[0,1,0],[1,3,1],[0,1,0]])"
   ]
  },
  {
   "cell_type": "code",
   "execution_count": 8,
   "metadata": {},
   "outputs": [],
   "source": [
    "# kernel_grad = np.array([[2, 2, -2], [2, 0, -2], [0, -2, -2]])  -> gradient de x et de y "
   ]
  },
  {
   "cell_type": "code",
   "execution_count": 9,
   "metadata": {},
   "outputs": [],
   "source": [
    "imgRes = cv2.filter2D(image ,-1, kernel_Gausse)"
   ]
  },
  {
   "cell_type": "code",
   "execution_count": 10,
   "metadata": {},
   "outputs": [
    {
     "data": {
      "text/plain": [
       "array([[255, 253, 224, ..., 254, 254, 254],\n",
       "       [206, 246, 255, ..., 254, 254, 254],\n",
       "       [255, 255, 255, ..., 254, 254, 254],\n",
       "       ...,\n",
       "       [255, 236, 255, ..., 255, 255, 255],\n",
       "       [255, 241, 255, ..., 255, 255, 255],\n",
       "       [255, 246, 255, ..., 255, 255, 255]], dtype=uint8)"
      ]
     },
     "execution_count": 10,
     "metadata": {},
     "output_type": "execute_result"
    }
   ],
   "source": [
    "imgRes = cv2.filter2D(image ,-1, Kernel_rehaussement)\n",
    "cv2.normalize(imgRes , imgRes , 0 , 255 , cv2.NORM_MINMAX)"
   ]
  },
  {
   "cell_type": "code",
   "execution_count": 11,
   "metadata": {},
   "outputs": [
    {
     "data": {
      "text/plain": [
       "array([[28,  2,  0, ...,  0,  0,  0],\n",
       "       [ 0,  0, 18, ...,  0,  0,  0],\n",
       "       [14,  5, 48, ...,  0,  0,  0],\n",
       "       ...,\n",
       "       [ 6,  0, 16, ...,  0,  0,  0],\n",
       "       [10,  0,  5, ...,  0,  0,  0],\n",
       "       [ 6,  0,  4, ...,  0,  0,  0]], dtype=uint8)"
      ]
     },
     "execution_count": 11,
     "metadata": {},
     "output_type": "execute_result"
    }
   ],
   "source": [
    "imgRes = cv2.filter2D(image ,-1, kernel_Lap)\n",
    "cv2.normalize(imgRes , imgRes , 0 , 255 , cv2.NORM_MINMAX)"
   ]
  },
  {
   "cell_type": "code",
   "execution_count": null,
   "metadata": {},
   "outputs": [],
   "source": [
    "imgRes = cv2.filter2D(image ,-1, kernel_grad)\n",
    "cv2.normalize(imgRes , imgRes , 0 , 255 , cv2.NORM_MINMAX)"
   ]
  },
  {
   "cell_type": "markdown",
   "metadata": {},
   "source": [
    "*Guasse Fonction*"
   ]
  },
  {
   "cell_type": "code",
   "execution_count": 39,
   "metadata": {},
   "outputs": [],
   "source": [
    "def gausse ( x , y , sigma ):\n",
    "    part1 = 1/(2*math.pi *pow(sigma,2))\n",
    "    part2 = -(x*x + y*y)/(2*pow(sigma, 2))\n",
    "    return part1 * math.pow(math.e , part2)\n",
    "\n",
    "def print_gausse (sigma = 1.4 , vois_mat = 3):\n",
    "    vois = int(vois_mat/2)\n",
    "    x ,y = 0,0\n",
    "    som = 0.0\n",
    "    for i in range(-vois, vois+1):\n",
    "        for j in range(-vois, vois+1):\n",
    "            val = gausse(i , j , sigma)\n",
    "            val = round(val*185 , 0)\n",
    "            print('{:02.2f}'.format(val),'\\t', end = \"\")\n",
    "            som+=val\n",
    "        print('')\n",
    "    print(f\"som : {som}\")\n",
    "    return som, vois, sigma\n",
    "        \n",
    "            "
   ]
  },
  {
   "cell_type": "code",
   "execution_count": 40,
   "metadata": {},
   "outputs": [
    {
     "name": "stdout",
     "output_type": "stream",
     "text": [
      "9.00 \t12.00 \t9.00 \t\n",
      "12.00 \t15.00 \t12.00 \t\n",
      "9.00 \t12.00 \t9.00 \t\n",
      "som : 99.0\n"
     ]
    }
   ],
   "source": [
    "som, vois, sigma = print_gausse (sigma = 1.4 , vois_mat = 3)"
   ]
  },
  {
   "cell_type": "code",
   "execution_count": 41,
   "metadata": {},
   "outputs": [
    {
     "data": {
      "text/plain": [
       "array([[255, 255, 255, ..., 254, 254, 254],\n",
       "       [243, 250, 255, ..., 254, 254, 254],\n",
       "       [254, 251, 248, ..., 254, 254, 254],\n",
       "       ...,\n",
       "       [254, 251, 254, ..., 255, 255, 255],\n",
       "       [250, 252, 252, ..., 255, 255, 255],\n",
       "       [252, 249, 255, ..., 255, 255, 255]], dtype=uint8)"
      ]
     },
     "execution_count": 41,
     "metadata": {},
     "output_type": "execute_result"
    }
   ],
   "source": [
    "imgRes = cv2.filter2D(image ,-1, vois)\n",
    "cv2.normalize(imgRes , imgRes , 0 , 255 , cv2.NORM_MINMAX)"
   ]
  },
  {
   "cell_type": "markdown",
   "metadata": {},
   "source": [
    "*Affichage*"
   ]
  },
  {
   "cell_type": "code",
   "execution_count": null,
   "metadata": {},
   "outputs": [],
   "source": [
    "cv2.imshow('Image source', image)\n",
    "cv2.imshow('Image Res', imgRes)\n",
    "\n",
    "\n",
    "cv2.waitKey(0)\n",
    "cv2.destroyAllWindows()"
   ]
  },
  {
   "cell_type": "code",
   "execution_count": null,
   "metadata": {},
   "outputs": [],
   "source": []
  }
 ],
 "metadata": {
  "kernelspec": {
   "display_name": "ML",
   "language": "python",
   "name": "python3"
  },
  "language_info": {
   "codemirror_mode": {
    "name": "ipython",
    "version": 3
   },
   "file_extension": ".py",
   "mimetype": "text/x-python",
   "name": "python",
   "nbconvert_exporter": "python",
   "pygments_lexer": "ipython3",
   "version": "3.10.13"
  }
 },
 "nbformat": 4,
 "nbformat_minor": 2
}
