{
 "cells": [
  {
   "cell_type": "code",
   "execution_count": 1,
   "metadata": {},
   "outputs": [],
   "source": [
    "try:\n",
    "    import cv2\n",
    "except Exception as  e:\n",
    "    print(f\"erreur {e}\")\n",
    "import numpy as np\n",
    "import math"
   ]
  },
  {
   "cell_type": "code",
   "execution_count": 28,
   "metadata": {},
   "outputs": [],
   "source": [
    "image = cv2.imread('assets/img3.png', cv2.IMREAD_GRAYSCALE)"
   ]
  },
  {
   "cell_type": "markdown",
   "metadata": {},
   "source": [
    "## *Errode*"
   ]
  },
  {
   "cell_type": "code",
   "execution_count": 29,
   "metadata": {},
   "outputs": [],
   "source": [
    "erodeSize = 1"
   ]
  },
  {
   "cell_type": "code",
   "execution_count": 35,
   "metadata": {},
   "outputs": [],
   "source": [
    "def erode_func():\n",
    "    size = erodeSize*2+1\n",
    "    kernel = cv2.getStructuringElement(cv2.MORPH_CROSS , (size , size))\n",
    "    img_erode = cv2.erode(image, kernel , iterations=1)\n",
    "    cv2.imshow('Image erode', img_erode)\n",
    "    \n",
    "    "
   ]
  },
  {
   "cell_type": "code",
   "execution_count": 36,
   "metadata": {},
   "outputs": [],
   "source": [
    "def changeErodeSize(x):\n",
    "    global erodeSize\n",
    "    erodeSize = x\n",
    "    erode_func()\n",
    "    # print(erodeSize)"
   ]
  },
  {
   "cell_type": "code",
   "execution_count": null,
   "metadata": {},
   "outputs": [],
   "source": [
    "\n",
    "cv2.threshold(image ,128,255,0,image)\n",
    "erode_func()\n",
    "\n",
    "cv2.createTrackbar(\"size Erode\",\"Image erode\",0,11, changeErodeSize)\n",
    "\n",
    "cv2.imshow('Image source', image)\n",
    "\n",
    "\n",
    "cv2.waitKey(0)\n",
    "cv2.destroyAllWindows()"
   ]
  },
  {
   "cell_type": "markdown",
   "metadata": {},
   "source": [
    "## *Dilatation*"
   ]
  },
  {
   "cell_type": "code",
   "execution_count": 38,
   "metadata": {},
   "outputs": [],
   "source": [
    "dilateSize = 1"
   ]
  },
  {
   "cell_type": "code",
   "execution_count": null,
   "metadata": {},
   "outputs": [],
   "source": [
    "def dilate_func():\n",
    "    size = dilateSize*2+1\n",
    "    kernel = cv2.getStructuringElement(cv2.MORPH_CROSS , (size , size))\n",
    "    img_dilate = cv2.dilate(image, kernel , iterations=1)\n",
    "    cv2.imshow('Image dilate', img_dilate)"
   ]
  },
  {
   "cell_type": "code",
   "execution_count": 41,
   "metadata": {},
   "outputs": [],
   "source": [
    "def changeDilateSize(x):\n",
    "    global dilateSize\n",
    "    dilateSize= x\n",
    "    dilate_func()\n",
    "    # print(erodeSize)"
   ]
  },
  {
   "cell_type": "code",
   "execution_count": null,
   "metadata": {},
   "outputs": [],
   "source": [
    "cv2.threshold(image ,128,255,0,image)\n",
    "\n",
    "dilate_func()\n",
    "cv2.createTrackbar(\"size dilate\",\"Image dilate\",0,11, changeDilateSize)\n",
    "\n",
    "cv2.imshow('Image source', image)\n",
    "\n",
    "\n",
    "cv2.waitKey(0)\n",
    "cv2.destroyAllWindows()"
   ]
  },
  {
   "cell_type": "markdown",
   "metadata": {},
   "source": [
    "## *MorphologEx*"
   ]
  },
  {
   "cell_type": "code",
   "execution_count": 45,
   "metadata": {},
   "outputs": [],
   "source": [
    "MorpheSize=1"
   ]
  },
  {
   "cell_type": "code",
   "execution_count": 56,
   "metadata": {},
   "outputs": [],
   "source": [
    "def Morphe_func():\n",
    "    size = MorpheSize*2+1\n",
    "    kernel = cv2.getStructuringElement(cv2.MORPH_CROSS , (size , size))\n",
    "    img_Morphe = cv2.morphologyEx(image,cv2.MORPH_OPEN, kernel , iterations=1)\n",
    "    cv2.imshow('Image Morphe', img_Morphe )"
   ]
  },
  {
   "cell_type": "code",
   "execution_count": 57,
   "metadata": {},
   "outputs": [],
   "source": [
    "def changeMorphSize(x):\n",
    "    global MorpheSize\n",
    "    MorpheSize= x\n",
    "    Morphe_func()\n",
    "    # print(erodeSize)"
   ]
  },
  {
   "cell_type": "code",
   "execution_count": 58,
   "metadata": {},
   "outputs": [],
   "source": [
    "cv2.threshold(image ,128,255,0,image)\n",
    "# cv2.namedWindow(\"Imag\")\n",
    "Morphe_func()\n",
    "cv2.createTrackbar(\"size \",\"Image Morphe\",0,11, changeMorphSize)\n",
    "cv2.imshow('Image source', image)\n",
    "\n",
    "\n",
    "cv2.waitKey(0)\n",
    "cv2.destroyAllWindows()"
   ]
  },
  {
   "cell_type": "code",
   "execution_count": null,
   "metadata": {},
   "outputs": [],
   "source": []
  }
 ],
 "metadata": {
  "kernelspec": {
   "display_name": "ML",
   "language": "python",
   "name": "python3"
  },
  "language_info": {
   "codemirror_mode": {
    "name": "ipython",
    "version": 3
   },
   "file_extension": ".py",
   "mimetype": "text/x-python",
   "name": "python",
   "nbconvert_exporter": "python",
   "pygments_lexer": "ipython3",
   "version": "3.10.13"
  }
 },
 "nbformat": 4,
 "nbformat_minor": 2
}
