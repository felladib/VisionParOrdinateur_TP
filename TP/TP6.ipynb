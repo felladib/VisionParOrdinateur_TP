{
 "cells": [
  {
   "cell_type": "code",
   "execution_count": 5,
   "metadata": {},
   "outputs": [],
   "source": [
    "try:\n",
    "    import cv2\n",
    "except Exception as  e:\n",
    "    print(f\"erreur {e}\")\n",
    "import numpy as np\n",
    "import math"
   ]
  },
  {
   "cell_type": "code",
   "execution_count": 6,
   "metadata": {},
   "outputs": [],
   "source": [
    "image = cv2.imread('assets/img2.png')"
   ]
  },
  {
   "cell_type": "markdown",
   "metadata": {},
   "source": [
    "### **recuperer les matrice des 3 coleur de l'image (r,g,b)**"
   ]
  },
  {
   "cell_type": "code",
   "execution_count": 7,
   "metadata": {},
   "outputs": [],
   "source": [
    "\n",
    "img_b = np.zeros(image.shape , image.dtype )\n",
    "img_g = np.zeros(image.shape , image.dtype)\n",
    "img_r = np.zeros(image.shape , image.dtype)\n",
    "\n",
    "h ,w ,c = image.shape\n",
    "\n",
    "for y in range(h):\n",
    "    for x in range(w):\n",
    "        img_b[y, x, 0] = image[y,x,0]\n",
    "        img_g[y, x, 1] = image[y,x,1]\n",
    "        img_r[y, x, 2] = image[y,x,2]\n",
    "        "
   ]
  },
  {
   "cell_type": "code",
   "execution_count": 8,
   "metadata": {},
   "outputs": [],
   "source": [
    "# sans boucle\n",
    "img_b[:, :, 0],img_g[:, :, 1],img_r[:, :, 2] = image[:,:,0],image[:,:,1],image[:,:,2]"
   ]
  },
  {
   "cell_type": "code",
   "execution_count": 9,
   "metadata": {},
   "outputs": [],
   "source": [
    "cv2.imshow('Image_b', img_b)\n",
    "cv2.imshow('Image_r', img_r)\n",
    "cv2.imshow('Image_g', img_g)\n",
    "cv2.imshow('Image', image)\n",
    "\n",
    "cv2.waitKey(0)\n",
    "cv2.destroyAllWindows()"
   ]
  },
  {
   "cell_type": "markdown",
   "metadata": {},
   "source": [
    "### **Converstion rgb vers gray**"
   ]
  },
  {
   "cell_type": "markdown",
   "metadata": {},
   "source": [
    "nous avons converti l'image vers le gray, mais on rencontre un probleme l'image est un peu mal afficher, du coup nous avons changé le type de imgGray parceque apres le cacule certain valeur vont au-dela de 255, donc on doit changer le type"
   ]
  },
  {
   "cell_type": "code",
   "execution_count": null,
   "metadata": {},
   "outputs": [],
   "source": []
  },
  {
   "cell_type": "code",
   "execution_count": 10,
   "metadata": {},
   "outputs": [
    {
     "name": "stderr",
     "output_type": "stream",
     "text": [
      "C:\\Users\\ryan\\AppData\\Local\\Temp\\ipykernel_11792\\2976727630.py:5: RuntimeWarning: overflow encountered in scalar add\n",
      "  imgRes[y,x] =  (img_b[y, x, 0] + img_g[y, x, 1] + img_g[y, x, 2])/(3*255)\n"
     ]
    }
   ],
   "source": [
    "# on applique un kernle de moyenne des couleur \n",
    "imgRes = np.zeros(image.shape[:2])\n",
    "for y in range(h):\n",
    "    for x in range(w):\n",
    "        imgRes[y,x] =  (img_b[y, x, 0] + img_g[y, x, 1] + img_g[y, x, 2])/(3*255)\n",
    "        \n",
    "# 3 point veut dire tout les element avant l'elemnt en fin .\n",
    "# pour rendre les valeur entre 255 pour changer le type vers float\n",
    "# imgGray = (image[...,0]+ image[...,1]+ image[...,2])/(3*255)\n",
    "# OR\n",
    "# imgGray = np.uint8((image[...,0]+image[...,1]+ image[...,2])/(3*255))\n",
    "# 0rR\n",
    "# imgGray = np.uint8(image[...,0]/3+ image[...,1]/3+ image[...,2]/3)/3\n",
    "# or\n",
    "imgGray = (np.float16(image[...,0])+ np.float16(image[...,1])+ np.float16(image[...,2]))/3\n",
    "imgGray = np.uint8(imgGray)\n",
    "\n"
   ]
  },
  {
   "cell_type": "markdown",
   "metadata": {},
   "source": [
    "a revoir"
   ]
  },
  {
   "cell_type": "code",
   "execution_count": null,
   "metadata": {},
   "outputs": [],
   "source": []
  },
  {
   "cell_type": "code",
   "execution_count": 28,
   "metadata": {},
   "outputs": [],
   "source": [
    "img_hsv = cv2.cvtColor(image , cv2.COLOR_BGR2HSV)\n",
    "img_hsv = np.uint8(img_hsv)\n",
    "# img_hsv = img_hsv/255\n",
    "\n",
    "img_float32 = (image)/255\n",
    "img_uint16 = np.uint16(img_float32)*(2**16-1)\n",
    "img_uint16_2 = np.uint16(img_float32*(2**16-1))"
   ]
  },
  {
   "cell_type": "code",
   "execution_count": null,
   "metadata": {},
   "outputs": [],
   "source": [
    "cv2.imshow('Image_Res', imgGray)\n",
    "cv2.imshow('Image_hsv', img_hsv)\n",
    "cv2.imshow('Image_FLOAT', img_float32)\n",
    "cv2.imshow('Image_INT', img_uint16)\n",
    "cv2.imshow('Image_INT_2', img_uint16_2)\n",
    "\n",
    "\n",
    "\n",
    "\n",
    "cv2.imshow('Image', image)\n",
    "\n",
    "cv2.waitKey(0)\n",
    "cv2.destroyAllWindows()"
   ]
  },
  {
   "cell_type": "code",
   "execution_count": null,
   "metadata": {},
   "outputs": [],
   "source": []
  }
 ],
 "metadata": {
  "kernelspec": {
   "display_name": "ML",
   "language": "python",
   "name": "python3"
  },
  "language_info": {
   "codemirror_mode": {
    "name": "ipython",
    "version": 3
   },
   "file_extension": ".py",
   "mimetype": "text/x-python",
   "name": "python",
   "nbconvert_exporter": "python",
   "pygments_lexer": "ipython3",
   "version": "3.10.13"
  }
 },
 "nbformat": 4,
 "nbformat_minor": 2
}
