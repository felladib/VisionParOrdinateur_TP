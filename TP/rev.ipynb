{
 "cells": [
  {
   "cell_type": "code",
   "execution_count": 1,
   "metadata": {},
   "outputs": [
    {
     "data": {
      "text/plain": [
       "(array([[ 0,  0,  0,  0,  0,  0,  0],\n",
       "        [ 0, 10, 20, 30, 40, 50,  0],\n",
       "        [ 0, 15, 25, 35, 45, 55,  0],\n",
       "        [ 0, 20, 30, 40, 50, 60,  0],\n",
       "        [ 0, 25, 35, 45, 55, 65,  0],\n",
       "        [ 0, 30, 40, 50, 60, 70,  0],\n",
       "        [ 0,  0,  0,  0,  0,  0,  0]]),\n",
       " array([[25, 15, 25, 35, 45, 55, 45],\n",
       "        [20, 10, 20, 30, 40, 50, 40],\n",
       "        [25, 15, 25, 35, 45, 55, 45],\n",
       "        [30, 20, 30, 40, 50, 60, 50],\n",
       "        [35, 25, 35, 45, 55, 65, 55],\n",
       "        [40, 30, 40, 50, 60, 70, 60],\n",
       "        [35, 25, 35, 45, 55, 65, 55]]),\n",
       " array([[10, 10, 20, 30, 40, 50, 50],\n",
       "        [10, 10, 20, 30, 40, 50, 50],\n",
       "        [15, 15, 25, 35, 45, 55, 55],\n",
       "        [20, 20, 30, 40, 50, 60, 60],\n",
       "        [25, 25, 35, 45, 55, 65, 65],\n",
       "        [30, 30, 40, 50, 60, 70, 70],\n",
       "        [30, 30, 40, 50, 60, 70, 70]]))"
      ]
     },
     "execution_count": 1,
     "metadata": {},
     "output_type": "execute_result"
    }
   ],
   "source": [
    "# Re-définir les matrices d'exemple\n",
    "import numpy as np\n",
    "\n",
    "# Matrice d'exemple (image 5x5)\n",
    "image_example = np.array([\n",
    "    [10, 20, 30, 40, 50],\n",
    "    [15, 25, 35, 45, 55],\n",
    "    [20, 30, 40, 50, 60],\n",
    "    [25, 35, 45, 55, 65],\n",
    "    [30, 40, 50, 60, 70]\n",
    "])\n",
    "\n",
    "# Noyau simple 3x3 pour convolution\n",
    "kernel = np.array([\n",
    "    [1, 1, 1],\n",
    "    [1, 1, 1],\n",
    "    [1, 1, 1]\n",
    "]) / 9  # Moyenne (blur)\n",
    "\n",
    "# 1. Mettre à zéro les bords\n",
    "padded_zero = np.pad(image_example, pad_width=1, mode='constant', constant_values=0)\n",
    "\n",
    "# 2. Convolution partielle (ignore les bords en sortie, effectue uniquement sur le centre)\n",
    "center_only = image_example[1:-1, 1:-1]\n",
    "\n",
    "# 3. Miroir de l'image\n",
    "padded_mirror = np.pad(image_example, pad_width=1, mode='reflect')\n",
    "\n",
    "# 4. Duplication\n",
    "padded_duplicate = np.pad(image_example, pad_width=1, mode='edge')\n",
    "\n",
    "padded_zero, padded_mirror, padded_duplicate\n"
   ]
  },
  {
   "cell_type": "code",
   "execution_count": null,
   "metadata": {},
   "outputs": [],
   "source": []
  }
 ],
 "metadata": {
  "kernelspec": {
   "display_name": "ML",
   "language": "python",
   "name": "python3"
  },
  "language_info": {
   "codemirror_mode": {
    "name": "ipython",
    "version": 3
   },
   "file_extension": ".py",
   "mimetype": "text/x-python",
   "name": "python",
   "nbconvert_exporter": "python",
   "pygments_lexer": "ipython3",
   "version": "3.10.13"
  }
 },
 "nbformat": 4,
 "nbformat_minor": 2
}
